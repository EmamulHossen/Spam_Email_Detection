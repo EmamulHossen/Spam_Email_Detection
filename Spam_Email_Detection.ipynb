{
  "nbformat": 4,
  "nbformat_minor": 0,
  "metadata": {
    "colab": {
      "provenance": [],
      "mount_file_id": "1-WDYz93r1-wuiygWWI9cAljStSe3_mcu",
      "authorship_tag": "ABX9TyMtWNk9X23gx+POYRJNM2t5",
      "include_colab_link": true
    },
    "kernelspec": {
      "name": "python3",
      "display_name": "Python 3"
    },
    "language_info": {
      "name": "python"
    }
  },
  "cells": [
    {
      "cell_type": "markdown",
      "metadata": {
        "id": "view-in-github",
        "colab_type": "text"
      },
      "source": [
        "<a href=\"https://colab.research.google.com/github/EmamulHossen/Spam_Email_Detection/blob/main/Spam_Email_Detection.ipynb\" target=\"_parent\"><img src=\"https://colab.research.google.com/assets/colab-badge.svg\" alt=\"Open In Colab\"/></a>"
      ]
    },
    {
      "cell_type": "code",
      "execution_count": 1,
      "metadata": {
        "colab": {
          "base_uri": "https://localhost:8080/"
        },
        "id": "Ex5F9A24D_Dl",
        "outputId": "08c23c72-6e31-4686-bf3c-752df3fde5f4"
      },
      "outputs": [
        {
          "output_type": "stream",
          "name": "stdout",
          "text": [
            "Drive already mounted at /content/drive; to attempt to forcibly remount, call drive.mount(\"/content/drive\", force_remount=True).\n"
          ]
        }
      ],
      "source": [
        "from google.colab import drive\n",
        "drive.mount(\"/content/drive\")"
      ]
    },
    {
      "cell_type": "code",
      "source": [
        "import nltk\n",
        "nltk.download('stopwords')\n",
        "nltk.download('wordnet')"
      ],
      "metadata": {
        "colab": {
          "base_uri": "https://localhost:8080/"
        },
        "id": "nhoNTfkJOcXg",
        "outputId": "fb400e68-a855-477f-ad76-c7f6d834b671"
      },
      "execution_count": 2,
      "outputs": [
        {
          "output_type": "stream",
          "name": "stderr",
          "text": [
            "[nltk_data] Downloading package stopwords to /root/nltk_data...\n",
            "[nltk_data]   Unzipping corpora/stopwords.zip.\n",
            "[nltk_data] Downloading package wordnet to /root/nltk_data...\n"
          ]
        },
        {
          "output_type": "execute_result",
          "data": {
            "text/plain": [
              "True"
            ]
          },
          "metadata": {},
          "execution_count": 2
        }
      ]
    },
    {
      "cell_type": "markdown",
      "source": [
        "# **Importing Modules**"
      ],
      "metadata": {
        "id": "z46wpd05OBL_"
      }
    },
    {
      "cell_type": "code",
      "source": [
        "import pandas as pd\n",
        "import matplotlib.pyplot as plt\n",
        "import nltk\n",
        "import string\n",
        "\n",
        "from nltk.corpus import stopwords\n",
        "from nltk.stem import WordNetLemmatizer\n",
        "from sklearn.feature_extraction.text import TfidfVectorizer\n",
        "from sklearn.model_selection import train_test_split\n",
        "from sklearn.naive_bayes import MultinomialNB,BernoulliNB\n",
        "from sklearn.metrics import confusion_matrix,roc_curve,roc_auc_score,auc"
      ],
      "metadata": {
        "id": "Tx-12fsRNqj1"
      },
      "execution_count": 3,
      "outputs": []
    },
    {
      "cell_type": "markdown",
      "source": [
        "**Load data**"
      ],
      "metadata": {
        "id": "Wp7dEZHgQG7m"
      }
    },
    {
      "cell_type": "code",
      "source": [
        "data=pd.read_csv(\"/content/drive/MyDrive/Data/emails.csv\")\n",
        "text_column = 'text'\n",
        "spam_column = 'spam'"
      ],
      "metadata": {
        "id": "aGVos5PsNqaO"
      },
      "execution_count": 4,
      "outputs": []
    },
    {
      "cell_type": "code",
      "source": [
        "data.head()"
      ],
      "metadata": {
        "colab": {
          "base_uri": "https://localhost:8080/",
          "height": 206
        },
        "id": "wvxjcUnaNqW-",
        "outputId": "f1a6ad77-b7f6-4e6a-ca01-7dc8fd76faf5"
      },
      "execution_count": 5,
      "outputs": [
        {
          "output_type": "execute_result",
          "data": {
            "text/plain": [
              "                                                text  spam\n",
              "0  Subject: naturally irresistible your corporate...     1\n",
              "1  Subject: the stock trading gunslinger  fanny i...     1\n",
              "2  Subject: unbelievable new homes made easy  im ...     1\n",
              "3  Subject: 4 color printing special  request add...     1\n",
              "4  Subject: do not have money , get software cds ...     1"
            ],
            "text/html": [
              "\n",
              "  <div id=\"df-ab08b025-9f61-4964-91e4-1841862a983a\" class=\"colab-df-container\">\n",
              "    <div>\n",
              "<style scoped>\n",
              "    .dataframe tbody tr th:only-of-type {\n",
              "        vertical-align: middle;\n",
              "    }\n",
              "\n",
              "    .dataframe tbody tr th {\n",
              "        vertical-align: top;\n",
              "    }\n",
              "\n",
              "    .dataframe thead th {\n",
              "        text-align: right;\n",
              "    }\n",
              "</style>\n",
              "<table border=\"1\" class=\"dataframe\">\n",
              "  <thead>\n",
              "    <tr style=\"text-align: right;\">\n",
              "      <th></th>\n",
              "      <th>text</th>\n",
              "      <th>spam</th>\n",
              "    </tr>\n",
              "  </thead>\n",
              "  <tbody>\n",
              "    <tr>\n",
              "      <th>0</th>\n",
              "      <td>Subject: naturally irresistible your corporate...</td>\n",
              "      <td>1</td>\n",
              "    </tr>\n",
              "    <tr>\n",
              "      <th>1</th>\n",
              "      <td>Subject: the stock trading gunslinger  fanny i...</td>\n",
              "      <td>1</td>\n",
              "    </tr>\n",
              "    <tr>\n",
              "      <th>2</th>\n",
              "      <td>Subject: unbelievable new homes made easy  im ...</td>\n",
              "      <td>1</td>\n",
              "    </tr>\n",
              "    <tr>\n",
              "      <th>3</th>\n",
              "      <td>Subject: 4 color printing special  request add...</td>\n",
              "      <td>1</td>\n",
              "    </tr>\n",
              "    <tr>\n",
              "      <th>4</th>\n",
              "      <td>Subject: do not have money , get software cds ...</td>\n",
              "      <td>1</td>\n",
              "    </tr>\n",
              "  </tbody>\n",
              "</table>\n",
              "</div>\n",
              "    <div class=\"colab-df-buttons\">\n",
              "\n",
              "  <div class=\"colab-df-container\">\n",
              "    <button class=\"colab-df-convert\" onclick=\"convertToInteractive('df-ab08b025-9f61-4964-91e4-1841862a983a')\"\n",
              "            title=\"Convert this dataframe to an interactive table.\"\n",
              "            style=\"display:none;\">\n",
              "\n",
              "  <svg xmlns=\"http://www.w3.org/2000/svg\" height=\"24px\" viewBox=\"0 -960 960 960\">\n",
              "    <path d=\"M120-120v-720h720v720H120Zm60-500h600v-160H180v160Zm220 220h160v-160H400v160Zm0 220h160v-160H400v160ZM180-400h160v-160H180v160Zm440 0h160v-160H620v160ZM180-180h160v-160H180v160Zm440 0h160v-160H620v160Z\"/>\n",
              "  </svg>\n",
              "    </button>\n",
              "\n",
              "  <style>\n",
              "    .colab-df-container {\n",
              "      display:flex;\n",
              "      gap: 12px;\n",
              "    }\n",
              "\n",
              "    .colab-df-convert {\n",
              "      background-color: #E8F0FE;\n",
              "      border: none;\n",
              "      border-radius: 50%;\n",
              "      cursor: pointer;\n",
              "      display: none;\n",
              "      fill: #1967D2;\n",
              "      height: 32px;\n",
              "      padding: 0 0 0 0;\n",
              "      width: 32px;\n",
              "    }\n",
              "\n",
              "    .colab-df-convert:hover {\n",
              "      background-color: #E2EBFA;\n",
              "      box-shadow: 0px 1px 2px rgba(60, 64, 67, 0.3), 0px 1px 3px 1px rgba(60, 64, 67, 0.15);\n",
              "      fill: #174EA6;\n",
              "    }\n",
              "\n",
              "    .colab-df-buttons div {\n",
              "      margin-bottom: 4px;\n",
              "    }\n",
              "\n",
              "    [theme=dark] .colab-df-convert {\n",
              "      background-color: #3B4455;\n",
              "      fill: #D2E3FC;\n",
              "    }\n",
              "\n",
              "    [theme=dark] .colab-df-convert:hover {\n",
              "      background-color: #434B5C;\n",
              "      box-shadow: 0px 1px 3px 1px rgba(0, 0, 0, 0.15);\n",
              "      filter: drop-shadow(0px 1px 2px rgba(0, 0, 0, 0.3));\n",
              "      fill: #FFFFFF;\n",
              "    }\n",
              "  </style>\n",
              "\n",
              "    <script>\n",
              "      const buttonEl =\n",
              "        document.querySelector('#df-ab08b025-9f61-4964-91e4-1841862a983a button.colab-df-convert');\n",
              "      buttonEl.style.display =\n",
              "        google.colab.kernel.accessAllowed ? 'block' : 'none';\n",
              "\n",
              "      async function convertToInteractive(key) {\n",
              "        const element = document.querySelector('#df-ab08b025-9f61-4964-91e4-1841862a983a');\n",
              "        const dataTable =\n",
              "          await google.colab.kernel.invokeFunction('convertToInteractive',\n",
              "                                                    [key], {});\n",
              "        if (!dataTable) return;\n",
              "\n",
              "        const docLinkHtml = 'Like what you see? Visit the ' +\n",
              "          '<a target=\"_blank\" href=https://colab.research.google.com/notebooks/data_table.ipynb>data table notebook</a>'\n",
              "          + ' to learn more about interactive tables.';\n",
              "        element.innerHTML = '';\n",
              "        dataTable['output_type'] = 'display_data';\n",
              "        await google.colab.output.renderOutput(dataTable, element);\n",
              "        const docLink = document.createElement('div');\n",
              "        docLink.innerHTML = docLinkHtml;\n",
              "        element.appendChild(docLink);\n",
              "      }\n",
              "    </script>\n",
              "  </div>\n",
              "\n",
              "\n",
              "<div id=\"df-606db802-4334-4702-aa51-d4b151aa124a\">\n",
              "  <button class=\"colab-df-quickchart\" onclick=\"quickchart('df-606db802-4334-4702-aa51-d4b151aa124a')\"\n",
              "            title=\"Suggest charts.\"\n",
              "            style=\"display:none;\">\n",
              "\n",
              "<svg xmlns=\"http://www.w3.org/2000/svg\" height=\"24px\"viewBox=\"0 0 24 24\"\n",
              "     width=\"24px\">\n",
              "    <g>\n",
              "        <path d=\"M19 3H5c-1.1 0-2 .9-2 2v14c0 1.1.9 2 2 2h14c1.1 0 2-.9 2-2V5c0-1.1-.9-2-2-2zM9 17H7v-7h2v7zm4 0h-2V7h2v10zm4 0h-2v-4h2v4z\"/>\n",
              "    </g>\n",
              "</svg>\n",
              "  </button>\n",
              "\n",
              "<style>\n",
              "  .colab-df-quickchart {\n",
              "      --bg-color: #E8F0FE;\n",
              "      --fill-color: #1967D2;\n",
              "      --hover-bg-color: #E2EBFA;\n",
              "      --hover-fill-color: #174EA6;\n",
              "      --disabled-fill-color: #AAA;\n",
              "      --disabled-bg-color: #DDD;\n",
              "  }\n",
              "\n",
              "  [theme=dark] .colab-df-quickchart {\n",
              "      --bg-color: #3B4455;\n",
              "      --fill-color: #D2E3FC;\n",
              "      --hover-bg-color: #434B5C;\n",
              "      --hover-fill-color: #FFFFFF;\n",
              "      --disabled-bg-color: #3B4455;\n",
              "      --disabled-fill-color: #666;\n",
              "  }\n",
              "\n",
              "  .colab-df-quickchart {\n",
              "    background-color: var(--bg-color);\n",
              "    border: none;\n",
              "    border-radius: 50%;\n",
              "    cursor: pointer;\n",
              "    display: none;\n",
              "    fill: var(--fill-color);\n",
              "    height: 32px;\n",
              "    padding: 0;\n",
              "    width: 32px;\n",
              "  }\n",
              "\n",
              "  .colab-df-quickchart:hover {\n",
              "    background-color: var(--hover-bg-color);\n",
              "    box-shadow: 0 1px 2px rgba(60, 64, 67, 0.3), 0 1px 3px 1px rgba(60, 64, 67, 0.15);\n",
              "    fill: var(--button-hover-fill-color);\n",
              "  }\n",
              "\n",
              "  .colab-df-quickchart-complete:disabled,\n",
              "  .colab-df-quickchart-complete:disabled:hover {\n",
              "    background-color: var(--disabled-bg-color);\n",
              "    fill: var(--disabled-fill-color);\n",
              "    box-shadow: none;\n",
              "  }\n",
              "\n",
              "  .colab-df-spinner {\n",
              "    border: 2px solid var(--fill-color);\n",
              "    border-color: transparent;\n",
              "    border-bottom-color: var(--fill-color);\n",
              "    animation:\n",
              "      spin 1s steps(1) infinite;\n",
              "  }\n",
              "\n",
              "  @keyframes spin {\n",
              "    0% {\n",
              "      border-color: transparent;\n",
              "      border-bottom-color: var(--fill-color);\n",
              "      border-left-color: var(--fill-color);\n",
              "    }\n",
              "    20% {\n",
              "      border-color: transparent;\n",
              "      border-left-color: var(--fill-color);\n",
              "      border-top-color: var(--fill-color);\n",
              "    }\n",
              "    30% {\n",
              "      border-color: transparent;\n",
              "      border-left-color: var(--fill-color);\n",
              "      border-top-color: var(--fill-color);\n",
              "      border-right-color: var(--fill-color);\n",
              "    }\n",
              "    40% {\n",
              "      border-color: transparent;\n",
              "      border-right-color: var(--fill-color);\n",
              "      border-top-color: var(--fill-color);\n",
              "    }\n",
              "    60% {\n",
              "      border-color: transparent;\n",
              "      border-right-color: var(--fill-color);\n",
              "    }\n",
              "    80% {\n",
              "      border-color: transparent;\n",
              "      border-right-color: var(--fill-color);\n",
              "      border-bottom-color: var(--fill-color);\n",
              "    }\n",
              "    90% {\n",
              "      border-color: transparent;\n",
              "      border-bottom-color: var(--fill-color);\n",
              "    }\n",
              "  }\n",
              "</style>\n",
              "\n",
              "  <script>\n",
              "    async function quickchart(key) {\n",
              "      const quickchartButtonEl =\n",
              "        document.querySelector('#' + key + ' button');\n",
              "      quickchartButtonEl.disabled = true;  // To prevent multiple clicks.\n",
              "      quickchartButtonEl.classList.add('colab-df-spinner');\n",
              "      try {\n",
              "        const charts = await google.colab.kernel.invokeFunction(\n",
              "            'suggestCharts', [key], {});\n",
              "      } catch (error) {\n",
              "        console.error('Error during call to suggestCharts:', error);\n",
              "      }\n",
              "      quickchartButtonEl.classList.remove('colab-df-spinner');\n",
              "      quickchartButtonEl.classList.add('colab-df-quickchart-complete');\n",
              "    }\n",
              "    (() => {\n",
              "      let quickchartButtonEl =\n",
              "        document.querySelector('#df-606db802-4334-4702-aa51-d4b151aa124a button');\n",
              "      quickchartButtonEl.style.display =\n",
              "        google.colab.kernel.accessAllowed ? 'block' : 'none';\n",
              "    })();\n",
              "  </script>\n",
              "</div>\n",
              "    </div>\n",
              "  </div>\n"
            ]
          },
          "metadata": {},
          "execution_count": 5
        }
      ]
    },
    {
      "cell_type": "code",
      "source": [
        "data.shape"
      ],
      "metadata": {
        "colab": {
          "base_uri": "https://localhost:8080/"
        },
        "id": "ZDMYv6FLSHiO",
        "outputId": "071ae96a-efa1-412e-98c0-a9644e50ae40"
      },
      "execution_count": 6,
      "outputs": [
        {
          "output_type": "execute_result",
          "data": {
            "text/plain": [
              "(5728, 2)"
            ]
          },
          "metadata": {},
          "execution_count": 6
        }
      ]
    },
    {
      "cell_type": "code",
      "source": [
        "#Value Counts of spam & Ham\n",
        "data[\"spam\"].value_counts() # 1=>spam\n",
        "                            # 0=>Ham"
      ],
      "metadata": {
        "colab": {
          "base_uri": "https://localhost:8080/"
        },
        "id": "OMcdiPOcNqTk",
        "outputId": "98b62b34-75de-4da1-9f0d-2dd2d85a7293"
      },
      "execution_count": 7,
      "outputs": [
        {
          "output_type": "execute_result",
          "data": {
            "text/plain": [
              "0    4360\n",
              "1    1368\n",
              "Name: spam, dtype: int64"
            ]
          },
          "metadata": {},
          "execution_count": 7
        }
      ]
    },
    {
      "cell_type": "markdown",
      "source": [
        "# **Step-1: Remove Punctuation & Stopwords**"
      ],
      "metadata": {
        "id": "YxA_QLITRj_m"
      }
    },
    {
      "cell_type": "code",
      "source": [
        "data.head()"
      ],
      "metadata": {
        "colab": {
          "base_uri": "https://localhost:8080/",
          "height": 206
        },
        "id": "uH04iu1gNqQh",
        "outputId": "b374c4dc-4f08-4439-9941-fc96c16dc26e"
      },
      "execution_count": 8,
      "outputs": [
        {
          "output_type": "execute_result",
          "data": {
            "text/plain": [
              "                                                text  spam\n",
              "0  Subject: naturally irresistible your corporate...     1\n",
              "1  Subject: the stock trading gunslinger  fanny i...     1\n",
              "2  Subject: unbelievable new homes made easy  im ...     1\n",
              "3  Subject: 4 color printing special  request add...     1\n",
              "4  Subject: do not have money , get software cds ...     1"
            ],
            "text/html": [
              "\n",
              "  <div id=\"df-62e7136e-f874-4082-9597-ac7d96eb3306\" class=\"colab-df-container\">\n",
              "    <div>\n",
              "<style scoped>\n",
              "    .dataframe tbody tr th:only-of-type {\n",
              "        vertical-align: middle;\n",
              "    }\n",
              "\n",
              "    .dataframe tbody tr th {\n",
              "        vertical-align: top;\n",
              "    }\n",
              "\n",
              "    .dataframe thead th {\n",
              "        text-align: right;\n",
              "    }\n",
              "</style>\n",
              "<table border=\"1\" class=\"dataframe\">\n",
              "  <thead>\n",
              "    <tr style=\"text-align: right;\">\n",
              "      <th></th>\n",
              "      <th>text</th>\n",
              "      <th>spam</th>\n",
              "    </tr>\n",
              "  </thead>\n",
              "  <tbody>\n",
              "    <tr>\n",
              "      <th>0</th>\n",
              "      <td>Subject: naturally irresistible your corporate...</td>\n",
              "      <td>1</td>\n",
              "    </tr>\n",
              "    <tr>\n",
              "      <th>1</th>\n",
              "      <td>Subject: the stock trading gunslinger  fanny i...</td>\n",
              "      <td>1</td>\n",
              "    </tr>\n",
              "    <tr>\n",
              "      <th>2</th>\n",
              "      <td>Subject: unbelievable new homes made easy  im ...</td>\n",
              "      <td>1</td>\n",
              "    </tr>\n",
              "    <tr>\n",
              "      <th>3</th>\n",
              "      <td>Subject: 4 color printing special  request add...</td>\n",
              "      <td>1</td>\n",
              "    </tr>\n",
              "    <tr>\n",
              "      <th>4</th>\n",
              "      <td>Subject: do not have money , get software cds ...</td>\n",
              "      <td>1</td>\n",
              "    </tr>\n",
              "  </tbody>\n",
              "</table>\n",
              "</div>\n",
              "    <div class=\"colab-df-buttons\">\n",
              "\n",
              "  <div class=\"colab-df-container\">\n",
              "    <button class=\"colab-df-convert\" onclick=\"convertToInteractive('df-62e7136e-f874-4082-9597-ac7d96eb3306')\"\n",
              "            title=\"Convert this dataframe to an interactive table.\"\n",
              "            style=\"display:none;\">\n",
              "\n",
              "  <svg xmlns=\"http://www.w3.org/2000/svg\" height=\"24px\" viewBox=\"0 -960 960 960\">\n",
              "    <path d=\"M120-120v-720h720v720H120Zm60-500h600v-160H180v160Zm220 220h160v-160H400v160Zm0 220h160v-160H400v160ZM180-400h160v-160H180v160Zm440 0h160v-160H620v160ZM180-180h160v-160H180v160Zm440 0h160v-160H620v160Z\"/>\n",
              "  </svg>\n",
              "    </button>\n",
              "\n",
              "  <style>\n",
              "    .colab-df-container {\n",
              "      display:flex;\n",
              "      gap: 12px;\n",
              "    }\n",
              "\n",
              "    .colab-df-convert {\n",
              "      background-color: #E8F0FE;\n",
              "      border: none;\n",
              "      border-radius: 50%;\n",
              "      cursor: pointer;\n",
              "      display: none;\n",
              "      fill: #1967D2;\n",
              "      height: 32px;\n",
              "      padding: 0 0 0 0;\n",
              "      width: 32px;\n",
              "    }\n",
              "\n",
              "    .colab-df-convert:hover {\n",
              "      background-color: #E2EBFA;\n",
              "      box-shadow: 0px 1px 2px rgba(60, 64, 67, 0.3), 0px 1px 3px 1px rgba(60, 64, 67, 0.15);\n",
              "      fill: #174EA6;\n",
              "    }\n",
              "\n",
              "    .colab-df-buttons div {\n",
              "      margin-bottom: 4px;\n",
              "    }\n",
              "\n",
              "    [theme=dark] .colab-df-convert {\n",
              "      background-color: #3B4455;\n",
              "      fill: #D2E3FC;\n",
              "    }\n",
              "\n",
              "    [theme=dark] .colab-df-convert:hover {\n",
              "      background-color: #434B5C;\n",
              "      box-shadow: 0px 1px 3px 1px rgba(0, 0, 0, 0.15);\n",
              "      filter: drop-shadow(0px 1px 2px rgba(0, 0, 0, 0.3));\n",
              "      fill: #FFFFFF;\n",
              "    }\n",
              "  </style>\n",
              "\n",
              "    <script>\n",
              "      const buttonEl =\n",
              "        document.querySelector('#df-62e7136e-f874-4082-9597-ac7d96eb3306 button.colab-df-convert');\n",
              "      buttonEl.style.display =\n",
              "        google.colab.kernel.accessAllowed ? 'block' : 'none';\n",
              "\n",
              "      async function convertToInteractive(key) {\n",
              "        const element = document.querySelector('#df-62e7136e-f874-4082-9597-ac7d96eb3306');\n",
              "        const dataTable =\n",
              "          await google.colab.kernel.invokeFunction('convertToInteractive',\n",
              "                                                    [key], {});\n",
              "        if (!dataTable) return;\n",
              "\n",
              "        const docLinkHtml = 'Like what you see? Visit the ' +\n",
              "          '<a target=\"_blank\" href=https://colab.research.google.com/notebooks/data_table.ipynb>data table notebook</a>'\n",
              "          + ' to learn more about interactive tables.';\n",
              "        element.innerHTML = '';\n",
              "        dataTable['output_type'] = 'display_data';\n",
              "        await google.colab.output.renderOutput(dataTable, element);\n",
              "        const docLink = document.createElement('div');\n",
              "        docLink.innerHTML = docLinkHtml;\n",
              "        element.appendChild(docLink);\n",
              "      }\n",
              "    </script>\n",
              "  </div>\n",
              "\n",
              "\n",
              "<div id=\"df-5144d2cb-e78f-4aa0-a15f-25a4efd71a44\">\n",
              "  <button class=\"colab-df-quickchart\" onclick=\"quickchart('df-5144d2cb-e78f-4aa0-a15f-25a4efd71a44')\"\n",
              "            title=\"Suggest charts.\"\n",
              "            style=\"display:none;\">\n",
              "\n",
              "<svg xmlns=\"http://www.w3.org/2000/svg\" height=\"24px\"viewBox=\"0 0 24 24\"\n",
              "     width=\"24px\">\n",
              "    <g>\n",
              "        <path d=\"M19 3H5c-1.1 0-2 .9-2 2v14c0 1.1.9 2 2 2h14c1.1 0 2-.9 2-2V5c0-1.1-.9-2-2-2zM9 17H7v-7h2v7zm4 0h-2V7h2v10zm4 0h-2v-4h2v4z\"/>\n",
              "    </g>\n",
              "</svg>\n",
              "  </button>\n",
              "\n",
              "<style>\n",
              "  .colab-df-quickchart {\n",
              "      --bg-color: #E8F0FE;\n",
              "      --fill-color: #1967D2;\n",
              "      --hover-bg-color: #E2EBFA;\n",
              "      --hover-fill-color: #174EA6;\n",
              "      --disabled-fill-color: #AAA;\n",
              "      --disabled-bg-color: #DDD;\n",
              "  }\n",
              "\n",
              "  [theme=dark] .colab-df-quickchart {\n",
              "      --bg-color: #3B4455;\n",
              "      --fill-color: #D2E3FC;\n",
              "      --hover-bg-color: #434B5C;\n",
              "      --hover-fill-color: #FFFFFF;\n",
              "      --disabled-bg-color: #3B4455;\n",
              "      --disabled-fill-color: #666;\n",
              "  }\n",
              "\n",
              "  .colab-df-quickchart {\n",
              "    background-color: var(--bg-color);\n",
              "    border: none;\n",
              "    border-radius: 50%;\n",
              "    cursor: pointer;\n",
              "    display: none;\n",
              "    fill: var(--fill-color);\n",
              "    height: 32px;\n",
              "    padding: 0;\n",
              "    width: 32px;\n",
              "  }\n",
              "\n",
              "  .colab-df-quickchart:hover {\n",
              "    background-color: var(--hover-bg-color);\n",
              "    box-shadow: 0 1px 2px rgba(60, 64, 67, 0.3), 0 1px 3px 1px rgba(60, 64, 67, 0.15);\n",
              "    fill: var(--button-hover-fill-color);\n",
              "  }\n",
              "\n",
              "  .colab-df-quickchart-complete:disabled,\n",
              "  .colab-df-quickchart-complete:disabled:hover {\n",
              "    background-color: var(--disabled-bg-color);\n",
              "    fill: var(--disabled-fill-color);\n",
              "    box-shadow: none;\n",
              "  }\n",
              "\n",
              "  .colab-df-spinner {\n",
              "    border: 2px solid var(--fill-color);\n",
              "    border-color: transparent;\n",
              "    border-bottom-color: var(--fill-color);\n",
              "    animation:\n",
              "      spin 1s steps(1) infinite;\n",
              "  }\n",
              "\n",
              "  @keyframes spin {\n",
              "    0% {\n",
              "      border-color: transparent;\n",
              "      border-bottom-color: var(--fill-color);\n",
              "      border-left-color: var(--fill-color);\n",
              "    }\n",
              "    20% {\n",
              "      border-color: transparent;\n",
              "      border-left-color: var(--fill-color);\n",
              "      border-top-color: var(--fill-color);\n",
              "    }\n",
              "    30% {\n",
              "      border-color: transparent;\n",
              "      border-left-color: var(--fill-color);\n",
              "      border-top-color: var(--fill-color);\n",
              "      border-right-color: var(--fill-color);\n",
              "    }\n",
              "    40% {\n",
              "      border-color: transparent;\n",
              "      border-right-color: var(--fill-color);\n",
              "      border-top-color: var(--fill-color);\n",
              "    }\n",
              "    60% {\n",
              "      border-color: transparent;\n",
              "      border-right-color: var(--fill-color);\n",
              "    }\n",
              "    80% {\n",
              "      border-color: transparent;\n",
              "      border-right-color: var(--fill-color);\n",
              "      border-bottom-color: var(--fill-color);\n",
              "    }\n",
              "    90% {\n",
              "      border-color: transparent;\n",
              "      border-bottom-color: var(--fill-color);\n",
              "    }\n",
              "  }\n",
              "</style>\n",
              "\n",
              "  <script>\n",
              "    async function quickchart(key) {\n",
              "      const quickchartButtonEl =\n",
              "        document.querySelector('#' + key + ' button');\n",
              "      quickchartButtonEl.disabled = true;  // To prevent multiple clicks.\n",
              "      quickchartButtonEl.classList.add('colab-df-spinner');\n",
              "      try {\n",
              "        const charts = await google.colab.kernel.invokeFunction(\n",
              "            'suggestCharts', [key], {});\n",
              "      } catch (error) {\n",
              "        console.error('Error during call to suggestCharts:', error);\n",
              "      }\n",
              "      quickchartButtonEl.classList.remove('colab-df-spinner');\n",
              "      quickchartButtonEl.classList.add('colab-df-quickchart-complete');\n",
              "    }\n",
              "    (() => {\n",
              "      let quickchartButtonEl =\n",
              "        document.querySelector('#df-5144d2cb-e78f-4aa0-a15f-25a4efd71a44 button');\n",
              "      quickchartButtonEl.style.display =\n",
              "        google.colab.kernel.accessAllowed ? 'block' : 'none';\n",
              "    })();\n",
              "  </script>\n",
              "</div>\n",
              "    </div>\n",
              "  </div>\n"
            ]
          },
          "metadata": {},
          "execution_count": 8
        }
      ]
    },
    {
      "cell_type": "code",
      "source": [
        "data.text[0]"
      ],
      "metadata": {
        "colab": {
          "base_uri": "https://localhost:8080/",
          "height": 122
        },
        "id": "6d7tOL7KNqMG",
        "outputId": "62fe5f77-efbb-4e8c-f410-a6fe1b1b7cfd"
      },
      "execution_count": 9,
      "outputs": [
        {
          "output_type": "execute_result",
          "data": {
            "text/plain": [
              "\"Subject: naturally irresistible your corporate identity  lt is really hard to recollect a company : the  market is full of suqgestions and the information isoverwhelminq ; but a good  catchy logo , stylish statlonery and outstanding website  will make the task much easier .  we do not promise that havinq ordered a iogo your  company will automaticaily become a world ieader : it isguite ciear that  without good products , effective business organization and practicable aim it  will be hotat nowadays market ; but we do promise that your marketing efforts  will become much more effective . here is the list of clear  benefits : creativeness : hand - made , original logos , specially done  to reflect your distinctive company image . convenience : logo and stationery  are provided in all formats ; easy - to - use content management system letsyou  change your website content and even its structure . promptness : you  will see logo drafts within three business days . affordability : your  marketing break - through shouldn ' t make gaps in your budget . 100 % satisfaction  guaranteed : we provide unlimited amount of changes with no extra fees for you to  be surethat you will love the result of this collaboration . have a look at our  portfolio _ _ _ _ _ _ _ _ _ _ _ _ _ _ _ _ _ _ _ _ _ _ _ _ _ _ _ _ _ _ _ _ _ _ _ _ _ _ _ _ _ _ _ _ _ _ _ _ _ _ _ _ not interested . . . _ _ _ _ _ _ _ _ _ _ _ _ _ _ _ _ _ _ _ _ _ _ _ _ _ _ _ _ _ _ _ _ _ _ _ _ _ _ _ _ _ _ _ _ _ _ _ _ _ _ _ _\""
            ],
            "application/vnd.google.colaboratory.intrinsic+json": {
              "type": "string"
            }
          },
          "metadata": {},
          "execution_count": 9
        }
      ]
    },
    {
      "cell_type": "code",
      "source": [
        "data.text[350]"
      ],
      "metadata": {
        "colab": {
          "base_uri": "https://localhost:8080/",
          "height": 53
        },
        "id": "ChmHNcv7NqF7",
        "outputId": "c6daf170-b192-49e0-c2f4-23a96a4688cf"
      },
      "execution_count": 10,
      "outputs": [
        {
          "output_type": "execute_result",
          "data": {
            "text/plain": [
              "'Subject: we are the only online pharmacy offering \" 100 % satisfaction guarantee \" .  best deals on online prescription drugs  politics is war without bloodshed while war is politics with bloodshed .  \\' but \\' is a fence over which few leap .  with great power comes great responsibility .  each bird loves to hear himself sing .'"
            ],
            "application/vnd.google.colaboratory.intrinsic+json": {
              "type": "string"
            }
          },
          "metadata": {},
          "execution_count": 10
        }
      ]
    },
    {
      "cell_type": "markdown",
      "source": [
        "**Stop word**\n",
        "> Stop words are a set of commonly used words in a language. Examples of stop words in English are “a,” “the,” “is,” “are,” etc.\n",
        "\n"
      ],
      "metadata": {
        "id": "1vuFg1wbSjv_"
      }
    },
    {
      "cell_type": "code",
      "source": [
        "#Checking stop words in English Language\n",
        "stw=set(stopwords.words(\"english\"))\n",
        "stw"
      ],
      "metadata": {
        "colab": {
          "base_uri": "https://localhost:8080/"
        },
        "id": "HyTxji-4NqCX",
        "outputId": "f1aee63c-e0a5-46bc-ddcd-92b7b035cbfd"
      },
      "execution_count": 11,
      "outputs": [
        {
          "output_type": "execute_result",
          "data": {
            "text/plain": [
              "{'a',\n",
              " 'about',\n",
              " 'above',\n",
              " 'after',\n",
              " 'again',\n",
              " 'against',\n",
              " 'ain',\n",
              " 'all',\n",
              " 'am',\n",
              " 'an',\n",
              " 'and',\n",
              " 'any',\n",
              " 'are',\n",
              " 'aren',\n",
              " \"aren't\",\n",
              " 'as',\n",
              " 'at',\n",
              " 'be',\n",
              " 'because',\n",
              " 'been',\n",
              " 'before',\n",
              " 'being',\n",
              " 'below',\n",
              " 'between',\n",
              " 'both',\n",
              " 'but',\n",
              " 'by',\n",
              " 'can',\n",
              " 'couldn',\n",
              " \"couldn't\",\n",
              " 'd',\n",
              " 'did',\n",
              " 'didn',\n",
              " \"didn't\",\n",
              " 'do',\n",
              " 'does',\n",
              " 'doesn',\n",
              " \"doesn't\",\n",
              " 'doing',\n",
              " 'don',\n",
              " \"don't\",\n",
              " 'down',\n",
              " 'during',\n",
              " 'each',\n",
              " 'few',\n",
              " 'for',\n",
              " 'from',\n",
              " 'further',\n",
              " 'had',\n",
              " 'hadn',\n",
              " \"hadn't\",\n",
              " 'has',\n",
              " 'hasn',\n",
              " \"hasn't\",\n",
              " 'have',\n",
              " 'haven',\n",
              " \"haven't\",\n",
              " 'having',\n",
              " 'he',\n",
              " 'her',\n",
              " 'here',\n",
              " 'hers',\n",
              " 'herself',\n",
              " 'him',\n",
              " 'himself',\n",
              " 'his',\n",
              " 'how',\n",
              " 'i',\n",
              " 'if',\n",
              " 'in',\n",
              " 'into',\n",
              " 'is',\n",
              " 'isn',\n",
              " \"isn't\",\n",
              " 'it',\n",
              " \"it's\",\n",
              " 'its',\n",
              " 'itself',\n",
              " 'just',\n",
              " 'll',\n",
              " 'm',\n",
              " 'ma',\n",
              " 'me',\n",
              " 'mightn',\n",
              " \"mightn't\",\n",
              " 'more',\n",
              " 'most',\n",
              " 'mustn',\n",
              " \"mustn't\",\n",
              " 'my',\n",
              " 'myself',\n",
              " 'needn',\n",
              " \"needn't\",\n",
              " 'no',\n",
              " 'nor',\n",
              " 'not',\n",
              " 'now',\n",
              " 'o',\n",
              " 'of',\n",
              " 'off',\n",
              " 'on',\n",
              " 'once',\n",
              " 'only',\n",
              " 'or',\n",
              " 'other',\n",
              " 'our',\n",
              " 'ours',\n",
              " 'ourselves',\n",
              " 'out',\n",
              " 'over',\n",
              " 'own',\n",
              " 're',\n",
              " 's',\n",
              " 'same',\n",
              " 'shan',\n",
              " \"shan't\",\n",
              " 'she',\n",
              " \"she's\",\n",
              " 'should',\n",
              " \"should've\",\n",
              " 'shouldn',\n",
              " \"shouldn't\",\n",
              " 'so',\n",
              " 'some',\n",
              " 'such',\n",
              " 't',\n",
              " 'than',\n",
              " 'that',\n",
              " \"that'll\",\n",
              " 'the',\n",
              " 'their',\n",
              " 'theirs',\n",
              " 'them',\n",
              " 'themselves',\n",
              " 'then',\n",
              " 'there',\n",
              " 'these',\n",
              " 'they',\n",
              " 'this',\n",
              " 'those',\n",
              " 'through',\n",
              " 'to',\n",
              " 'too',\n",
              " 'under',\n",
              " 'until',\n",
              " 'up',\n",
              " 've',\n",
              " 'very',\n",
              " 'was',\n",
              " 'wasn',\n",
              " \"wasn't\",\n",
              " 'we',\n",
              " 'were',\n",
              " 'weren',\n",
              " \"weren't\",\n",
              " 'what',\n",
              " 'when',\n",
              " 'where',\n",
              " 'which',\n",
              " 'while',\n",
              " 'who',\n",
              " 'whom',\n",
              " 'why',\n",
              " 'will',\n",
              " 'with',\n",
              " 'won',\n",
              " \"won't\",\n",
              " 'wouldn',\n",
              " \"wouldn't\",\n",
              " 'y',\n",
              " 'you',\n",
              " \"you'd\",\n",
              " \"you'll\",\n",
              " \"you're\",\n",
              " \"you've\",\n",
              " 'your',\n",
              " 'yours',\n",
              " 'yourself',\n",
              " 'yourselves'}"
            ]
          },
          "metadata": {},
          "execution_count": 11
        }
      ]
    },
    {
      "cell_type": "code",
      "source": [
        "# Not only english language,stopwords has every language.\n",
        "stopwords.fileids()"
      ],
      "metadata": {
        "colab": {
          "base_uri": "https://localhost:8080/"
        },
        "id": "MBpbKkEaNp-q",
        "outputId": "7ce32423-754b-4ccf-ab6f-60259c50abf5"
      },
      "execution_count": 12,
      "outputs": [
        {
          "output_type": "execute_result",
          "data": {
            "text/plain": [
              "['arabic',\n",
              " 'azerbaijani',\n",
              " 'basque',\n",
              " 'bengali',\n",
              " 'catalan',\n",
              " 'chinese',\n",
              " 'danish',\n",
              " 'dutch',\n",
              " 'english',\n",
              " 'finnish',\n",
              " 'french',\n",
              " 'german',\n",
              " 'greek',\n",
              " 'hebrew',\n",
              " 'hinglish',\n",
              " 'hungarian',\n",
              " 'indonesian',\n",
              " 'italian',\n",
              " 'kazakh',\n",
              " 'nepali',\n",
              " 'norwegian',\n",
              " 'portuguese',\n",
              " 'romanian',\n",
              " 'russian',\n",
              " 'slovene',\n",
              " 'spanish',\n",
              " 'swedish',\n",
              " 'tajik',\n",
              " 'turkish']"
            ]
          },
          "metadata": {},
          "execution_count": 12
        }
      ]
    },
    {
      "cell_type": "code",
      "source": [
        "stw=set(stopwords.words('bengali')) # Stopwords for Bangla Language\n",
        "stw"
      ],
      "metadata": {
        "colab": {
          "base_uri": "https://localhost:8080/"
        },
        "id": "bF9rrxWJNp6-",
        "outputId": "a5f5c98b-757c-4713-9a40-f6a59161ec07"
      },
      "execution_count": 13,
      "outputs": [
        {
          "output_type": "execute_result",
          "data": {
            "text/plain": [
              "{'অতএব',\n",
              " 'অথচ',\n",
              " 'অথবা',\n",
              " 'অনুযায়ী',\n",
              " 'অনেক',\n",
              " 'অনেকে',\n",
              " 'অনেকেই',\n",
              " 'অন্তত',\n",
              " 'অন্য',\n",
              " 'অবধি',\n",
              " 'অবশ্য',\n",
              " 'অর্থাত',\n",
              " 'আই',\n",
              " 'আগামী',\n",
              " 'আগে',\n",
              " 'আগেই',\n",
              " 'আছে',\n",
              " 'আজ',\n",
              " 'আদ্যভাগে',\n",
              " 'আপনার',\n",
              " 'আপনি',\n",
              " 'আবার',\n",
              " 'আমরা',\n",
              " 'আমাকে',\n",
              " 'আমাদের',\n",
              " 'আমার',\n",
              " 'আমি',\n",
              " 'আর',\n",
              " 'আরও',\n",
              " 'ই',\n",
              " 'ইত্যাদি',\n",
              " 'ইহা',\n",
              " 'উচিত',\n",
              " 'উত্তর',\n",
              " 'উনি',\n",
              " 'উপর',\n",
              " 'উপরে',\n",
              " 'এ',\n",
              " 'এঁদের',\n",
              " 'এঁরা',\n",
              " 'এই',\n",
              " 'একই',\n",
              " 'একটি',\n",
              " 'একবার',\n",
              " 'একে',\n",
              " 'এক্',\n",
              " 'এখন',\n",
              " 'এখনও',\n",
              " 'এখানে',\n",
              " 'এখানেই',\n",
              " 'এটা',\n",
              " 'এটাই',\n",
              " 'এটি',\n",
              " 'এত',\n",
              " 'এতটাই',\n",
              " 'এতে',\n",
              " 'এদের',\n",
              " 'এব',\n",
              " 'এবং',\n",
              " 'এবার',\n",
              " 'এমন',\n",
              " 'এমনকী',\n",
              " 'এমনি',\n",
              " 'এর',\n",
              " 'এরা',\n",
              " 'এল',\n",
              " 'এস',\n",
              " 'এসে',\n",
              " 'ঐ',\n",
              " 'ও',\n",
              " 'ওঁদের',\n",
              " 'ওঁর',\n",
              " 'ওঁরা',\n",
              " 'ওই',\n",
              " 'ওকে',\n",
              " 'ওখানে',\n",
              " 'ওদের',\n",
              " 'ওর',\n",
              " 'ওরা',\n",
              " 'কখনও',\n",
              " 'কত',\n",
              " 'কবে',\n",
              " 'কমনে',\n",
              " 'কয়েক',\n",
              " 'কয়েকটি',\n",
              " 'করছে',\n",
              " 'করছেন',\n",
              " 'করতে',\n",
              " 'করবে',\n",
              " 'করবেন',\n",
              " 'করলে',\n",
              " 'করলেন',\n",
              " 'করা',\n",
              " 'করাই',\n",
              " 'করায়',\n",
              " 'করার',\n",
              " 'করি',\n",
              " 'করিতে',\n",
              " 'করিয়া',\n",
              " 'করিয়ে',\n",
              " 'করে',\n",
              " 'করেই',\n",
              " 'করেছিলেন',\n",
              " 'করেছে',\n",
              " 'করেছেন',\n",
              " 'করেন',\n",
              " 'কাউকে',\n",
              " 'কাছ',\n",
              " 'কাছে',\n",
              " 'কাজ',\n",
              " 'কাজে',\n",
              " 'কারও',\n",
              " 'কারণ',\n",
              " 'কি',\n",
              " 'কিংবা',\n",
              " 'কিছু',\n",
              " 'কিছুই',\n",
              " 'কিন্তু',\n",
              " 'কী',\n",
              " 'কে',\n",
              " 'কেউ',\n",
              " 'কেউই',\n",
              " 'কেখা',\n",
              " 'কেন',\n",
              " 'কোটি',\n",
              " 'কোন',\n",
              " 'কোনও',\n",
              " 'কোনো',\n",
              " 'ক্ষেত্রে',\n",
              " 'কয়েক',\n",
              " 'খুব',\n",
              " 'গিয়ে',\n",
              " 'গিয়েছে',\n",
              " 'গিয়ে',\n",
              " 'গুলি',\n",
              " 'গেছে',\n",
              " 'গেল',\n",
              " 'গেলে',\n",
              " 'গোটা',\n",
              " 'চলে',\n",
              " 'চান',\n",
              " 'চায়',\n",
              " 'চার',\n",
              " 'চালু',\n",
              " 'চেয়ে',\n",
              " 'চেষ্টা',\n",
              " 'ছাড়া',\n",
              " 'ছাড়াও',\n",
              " 'ছিল',\n",
              " 'ছিলেন',\n",
              " 'জন',\n",
              " 'জনকে',\n",
              " 'জনের',\n",
              " 'জন্য',\n",
              " 'জন্যওজে',\n",
              " 'জানতে',\n",
              " 'জানা',\n",
              " 'জানানো',\n",
              " 'জানায়',\n",
              " 'জানিয়ে',\n",
              " 'জানিয়েছে',\n",
              " 'জে',\n",
              " 'জ্নজন',\n",
              " 'টি',\n",
              " 'ঠিক',\n",
              " 'তখন',\n",
              " 'তত',\n",
              " 'তথা',\n",
              " 'তবু',\n",
              " 'তবে',\n",
              " 'তা',\n",
              " 'তাঁকে',\n",
              " 'তাঁদের',\n",
              " 'তাঁর',\n",
              " 'তাঁরা',\n",
              " 'তাঁাহারা',\n",
              " 'তাই',\n",
              " 'তাও',\n",
              " 'তাকে',\n",
              " 'তাতে',\n",
              " 'তাদের',\n",
              " 'তার',\n",
              " 'তারপর',\n",
              " 'তারা',\n",
              " 'তারৈ',\n",
              " 'তাহলে',\n",
              " 'তাহা',\n",
              " 'তাহাতে',\n",
              " 'তাহার',\n",
              " 'তিনঐ',\n",
              " 'তিনি',\n",
              " 'তিনিও',\n",
              " 'তুমি',\n",
              " 'তুলে',\n",
              " 'তেমন',\n",
              " 'তো',\n",
              " 'তোমার',\n",
              " 'থাকবে',\n",
              " 'থাকবেন',\n",
              " 'থাকা',\n",
              " 'থাকায়',\n",
              " 'থাকে',\n",
              " 'থাকেন',\n",
              " 'থেকে',\n",
              " 'থেকেই',\n",
              " 'থেকেও',\n",
              " 'দিকে',\n",
              " 'দিতে',\n",
              " 'দিন',\n",
              " 'দিয়ে',\n",
              " 'দিয়েছে',\n",
              " 'দিয়েছেন',\n",
              " 'দিলেন',\n",
              " 'দু',\n",
              " 'দুই',\n",
              " 'দুটি',\n",
              " 'দুটো',\n",
              " 'দেওয়া',\n",
              " 'দেওয়ার',\n",
              " 'দেওয়া',\n",
              " 'দেখতে',\n",
              " 'দেখা',\n",
              " 'দেখে',\n",
              " 'দেন',\n",
              " 'দেয়',\n",
              " 'দ্বারা',\n",
              " 'ধরা',\n",
              " 'ধরে',\n",
              " 'ধামার',\n",
              " 'নতুন',\n",
              " 'নয়',\n",
              " 'না',\n",
              " 'নাই',\n",
              " 'নাকি',\n",
              " 'নাগাদ',\n",
              " 'নানা',\n",
              " 'নিজে',\n",
              " 'নিজেই',\n",
              " 'নিজেদের',\n",
              " 'নিজের',\n",
              " 'নিতে',\n",
              " 'নিয়ে',\n",
              " 'নিয়ে',\n",
              " 'নেই',\n",
              " 'নেওয়া',\n",
              " 'নেওয়ার',\n",
              " 'নেওয়া',\n",
              " 'নয়',\n",
              " 'পক্ষে',\n",
              " 'পর',\n",
              " 'পরে',\n",
              " 'পরেই',\n",
              " 'পরেও',\n",
              " 'পর্যন্ত',\n",
              " 'পাওয়া',\n",
              " 'পাচ',\n",
              " 'পারি',\n",
              " 'পারে',\n",
              " 'পারেন',\n",
              " 'পি',\n",
              " 'পেয়ে',\n",
              " 'পেয়্র্',\n",
              " 'প্রতি',\n",
              " 'প্রথম',\n",
              " 'প্রভৃতি',\n",
              " 'প্রযন্ত',\n",
              " 'প্রাথমিক',\n",
              " 'প্রায়',\n",
              " 'প্রায়',\n",
              " 'ফলে',\n",
              " 'ফিরে',\n",
              " 'ফের',\n",
              " 'বক্তব্য',\n",
              " 'বদলে',\n",
              " 'বন',\n",
              " 'বরং',\n",
              " 'বলতে',\n",
              " 'বলল',\n",
              " 'বললেন',\n",
              " 'বলা',\n",
              " 'বলে',\n",
              " 'বলেছেন',\n",
              " 'বলেন',\n",
              " 'বসে',\n",
              " 'বহু',\n",
              " 'বা',\n",
              " 'বাদে',\n",
              " 'বার',\n",
              " 'বি',\n",
              " 'বিনা',\n",
              " 'বিভিন্ন',\n",
              " 'বিশেষ',\n",
              " 'বিষয়টি',\n",
              " 'বেশ',\n",
              " 'বেশি',\n",
              " 'ব্যবহার',\n",
              " 'ব্যাপারে',\n",
              " 'ভাবে',\n",
              " 'ভাবেই',\n",
              " 'মতো',\n",
              " 'মতোই',\n",
              " 'মধ্যভাগে',\n",
              " 'মধ্যে',\n",
              " 'মধ্যেই',\n",
              " 'মধ্যেও',\n",
              " 'মনে',\n",
              " 'মাত্র',\n",
              " 'মাধ্যমে',\n",
              " 'মোট',\n",
              " 'মোটেই',\n",
              " 'যখন',\n",
              " 'যত',\n",
              " 'যতটা',\n",
              " 'যথেষ্ট',\n",
              " 'যদি',\n",
              " 'যদিও',\n",
              " 'যা',\n",
              " 'যাঁর',\n",
              " 'যাঁরা',\n",
              " 'যাওয়া',\n",
              " 'যাওয়ার',\n",
              " 'যাওয়া',\n",
              " 'যাকে',\n",
              " 'যাচ্ছে',\n",
              " 'যাতে',\n",
              " 'যাদের',\n",
              " 'যান',\n",
              " 'যাবে',\n",
              " 'যায়',\n",
              " 'যার',\n",
              " 'যারা',\n",
              " 'যিনি',\n",
              " 'যে',\n",
              " 'যেখানে',\n",
              " 'যেতে',\n",
              " 'যেন',\n",
              " 'যেমন',\n",
              " 'র',\n",
              " 'রকম',\n",
              " 'রয়েছে',\n",
              " 'রাখা',\n",
              " 'রেখে',\n",
              " 'লক্ষ',\n",
              " 'শুধু',\n",
              " 'শুরু',\n",
              " 'সঙ্গে',\n",
              " 'সঙ্গেও',\n",
              " 'সব',\n",
              " 'সবার',\n",
              " 'সমস্ত',\n",
              " 'সম্প্রতি',\n",
              " 'সহ',\n",
              " 'সহিত',\n",
              " 'সাধারণ',\n",
              " 'সামনে',\n",
              " 'সি',\n",
              " 'সুতরাং',\n",
              " 'সে',\n",
              " 'সেই',\n",
              " 'সেখান',\n",
              " 'সেখানে',\n",
              " 'সেটা',\n",
              " 'সেটাই',\n",
              " 'সেটাও',\n",
              " 'সেটি',\n",
              " 'স্পষ্ট',\n",
              " 'স্বয়ং',\n",
              " 'হইতে',\n",
              " 'হইবে',\n",
              " 'হইয়া',\n",
              " 'হওয়া',\n",
              " 'হওয়ায়',\n",
              " 'হওয়ার',\n",
              " 'হচ্ছে',\n",
              " 'হত',\n",
              " 'হতে',\n",
              " 'হতেই',\n",
              " 'হন',\n",
              " 'হবে',\n",
              " 'হবেন',\n",
              " 'হয়',\n",
              " 'হয়তো',\n",
              " 'হয়নি',\n",
              " 'হয়ে',\n",
              " 'হয়েই',\n",
              " 'হয়েছিল',\n",
              " 'হয়েছে',\n",
              " 'হয়েছেন',\n",
              " 'হল',\n",
              " 'হলে',\n",
              " 'হলেই',\n",
              " 'হলেও',\n",
              " 'হলো',\n",
              " 'হাজার',\n",
              " 'হিসাবে',\n",
              " 'হৈলে',\n",
              " 'হোক',\n",
              " 'হয়'}"
            ]
          },
          "metadata": {},
          "execution_count": 13
        }
      ]
    },
    {
      "cell_type": "code",
      "source": [
        "string.punctuation # Check the Punctuation"
      ],
      "metadata": {
        "colab": {
          "base_uri": "https://localhost:8080/",
          "height": 35
        },
        "id": "JQYIf4vETynQ",
        "outputId": "92ed53e8-c6be-4365-8203-5ae9d83a50fc"
      },
      "execution_count": 14,
      "outputs": [
        {
          "output_type": "execute_result",
          "data": {
            "text/plain": [
              "'!\"#$%&\\'()*+,-./:;<=>?@[\\\\]^_`{|}~'"
            ],
            "application/vnd.google.colaboratory.intrinsic+json": {
              "type": "string"
            }
          },
          "metadata": {},
          "execution_count": 14
        }
      ]
    },
    {
      "cell_type": "code",
      "source": [
        "#All word in lower format\n",
        "\"DaTa\".lower()"
      ],
      "metadata": {
        "colab": {
          "base_uri": "https://localhost:8080/",
          "height": 35
        },
        "id": "ggjJ_8QqTyj2",
        "outputId": "64953409-b8b3-457f-9b0e-db05114d9f37"
      },
      "execution_count": 15,
      "outputs": [
        {
          "output_type": "execute_result",
          "data": {
            "text/plain": [
              "'data'"
            ],
            "application/vnd.google.colaboratory.intrinsic+json": {
              "type": "string"
            }
          },
          "metadata": {},
          "execution_count": 15
        }
      ]
    },
    {
      "cell_type": "markdown",
      "source": [
        "# **Some of the preprocessing Steps are:-**\n",
        "1.**Removing punctuations like . , ! $( ) * % @**<br/>\n",
        "2.**Removing URLs**<br/>\n",
        "3.**Removing Stop words**<br/>\n",
        "4.**Lower casing.**<br/>\n",
        "5.**Tokenization.**<br/>\n",
        "6.**Stemming.**<br/>\n",
        "7.**Lemmatization.**"
      ],
      "metadata": {
        "id": "Ire3knUJUjrm"
      }
    },
    {
      "cell_type": "code",
      "source": [
        "def preprocess_text(text):\n",
        "    # Remove punctuation\n",
        "    remove_punc = [char for char in text if char not in string.punctuation]\n",
        "    clean_words = ''.join(remove_punc) # char joining\n",
        "\n",
        "    #Remove stopwords\n",
        "    text = ([word for word in clean_words.split() if word.lower() not in stw]) # stopword = stopwords.words('english')\n",
        "    return text"
      ],
      "metadata": {
        "id": "P0EmAPwDTygP"
      },
      "execution_count": 16,
      "outputs": []
    },
    {
      "cell_type": "code",
      "source": [
        "data[text_column] = data[text_column].apply(preprocess_text)"
      ],
      "metadata": {
        "id": "y92IecBFTydj"
      },
      "execution_count": 17,
      "outputs": []
    },
    {
      "cell_type": "code",
      "source": [
        "data[text_column]"
      ],
      "metadata": {
        "id": "HY1tybnRTyam",
        "colab": {
          "base_uri": "https://localhost:8080/"
        },
        "outputId": "5713eb16-61f9-4108-8ab0-5f3799a585f1"
      },
      "execution_count": 18,
      "outputs": [
        {
          "output_type": "execute_result",
          "data": {
            "text/plain": [
              "0       [Subject, naturally, irresistible, your, corpo...\n",
              "1       [Subject, the, stock, trading, gunslinger, fan...\n",
              "2       [Subject, unbelievable, new, homes, made, easy...\n",
              "3       [Subject, 4, color, printing, special, request...\n",
              "4       [Subject, do, not, have, money, get, software,...\n",
              "                              ...                        \n",
              "5723    [Subject, re, research, and, development, char...\n",
              "5724    [Subject, re, receipts, from, visit, jim, than...\n",
              "5725    [Subject, re, enron, case, study, update, wow,...\n",
              "5726    [Subject, re, interest, david, please, call, s...\n",
              "5727    [Subject, news, aurora, 5, 2, update, aurora, ...\n",
              "Name: text, Length: 5728, dtype: object"
            ]
          },
          "metadata": {},
          "execution_count": 18
        }
      ]
    },
    {
      "cell_type": "markdown",
      "source": [
        "# **Step-2: Lemmatization**"
      ],
      "metadata": {
        "id": "jMySmvannqO2"
      }
    },
    {
      "cell_type": "code",
      "source": [
        "lemmatizer=WordNetLemmatizer()\n",
        "\n",
        "\n",
        "def lemmatize_text(text):\n",
        "  lemmatized_text=' '.join([lemmatizer.lemmatize(word) for word in text])\n",
        "  return lemmatized_text\n",
        "\n",
        "\n",
        "data[text_column] = data[text_column].apply(lemmatize_text)"
      ],
      "metadata": {
        "id": "2BtIzTovTyYK"
      },
      "execution_count": 19,
      "outputs": []
    },
    {
      "cell_type": "code",
      "source": [
        "data[text_column]"
      ],
      "metadata": {
        "id": "vv4DsmAjTyT_",
        "colab": {
          "base_uri": "https://localhost:8080/"
        },
        "outputId": "26769d1e-9e6b-44c4-f31a-f4a682a6c64c"
      },
      "execution_count": 20,
      "outputs": [
        {
          "output_type": "execute_result",
          "data": {
            "text/plain": [
              "0       Subject naturally irresistible your corporate ...\n",
              "1       Subject the stock trading gunslinger fanny is ...\n",
              "2       Subject unbelievable new home made easy im wan...\n",
              "3       Subject 4 color printing special request addit...\n",
              "4       Subject do not have money get software cd from...\n",
              "                              ...                        \n",
              "5723    Subject re research and development charge to ...\n",
              "5724    Subject re receipt from visit jim thanks again...\n",
              "5725    Subject re enron case study update wow all on ...\n",
              "5726    Subject re interest david please call shirley ...\n",
              "5727    Subject news aurora 5 2 update aurora version ...\n",
              "Name: text, Length: 5728, dtype: object"
            ]
          },
          "metadata": {},
          "execution_count": 20
        }
      ]
    },
    {
      "cell_type": "markdown",
      "source": [
        "# **Step-3: TF-IDF Vectorizer**"
      ],
      "metadata": {
        "id": "kP4QqL_Xqbil"
      }
    },
    {
      "cell_type": "code",
      "source": [
        "vectorizer=TfidfVectorizer()\n",
        "\n",
        "x=vectorizer.fit_transform(data[text_column])\n",
        "y=data[spam_column]"
      ],
      "metadata": {
        "id": "iPkYQgy7TyRF"
      },
      "execution_count": 21,
      "outputs": []
    },
    {
      "cell_type": "code",
      "source": [
        "x.toarray()"
      ],
      "metadata": {
        "id": "_tDvEbgnTyNu",
        "colab": {
          "base_uri": "https://localhost:8080/"
        },
        "outputId": "34fa87e9-af47-4f31-f4b5-c180b3c05192"
      },
      "execution_count": 22,
      "outputs": [
        {
          "output_type": "execute_result",
          "data": {
            "text/plain": [
              "array([[0.        , 0.        , 0.        , ..., 0.        , 0.        ,\n",
              "        0.        ],\n",
              "       [0.        , 0.        , 0.        , ..., 0.        , 0.        ,\n",
              "        0.        ],\n",
              "       [0.        , 0.        , 0.        , ..., 0.        , 0.        ,\n",
              "        0.        ],\n",
              "       ...,\n",
              "       [0.11472821, 0.        , 0.        , ..., 0.        , 0.        ,\n",
              "        0.        ],\n",
              "       [0.        , 0.        , 0.        , ..., 0.        , 0.        ,\n",
              "        0.        ],\n",
              "       [0.        , 0.        , 0.        , ..., 0.        , 0.        ,\n",
              "        0.        ]])"
            ]
          },
          "metadata": {},
          "execution_count": 22
        }
      ]
    },
    {
      "cell_type": "markdown",
      "source": [
        "# **Fit Models**"
      ],
      "metadata": {
        "id": "JAas9Poeruk0"
      }
    },
    {
      "cell_type": "code",
      "source": [
        "x_train,x_test,y_train,y_test=train_test_split(x,y,test_size=0.2,random_state=42)"
      ],
      "metadata": {
        "id": "FLNN6Zo4TyKv"
      },
      "execution_count": 23,
      "outputs": []
    },
    {
      "cell_type": "markdown",
      "source": [
        "# **Performance Evaluation**"
      ],
      "metadata": {
        "id": "sQ1DUXM2sDOE"
      }
    },
    {
      "cell_type": "code",
      "source": [
        "models = [\n",
        "    MultinomialNB(),\n",
        "    BernoulliNB()\n",
        "]\n",
        "\n",
        "for model in models:\n",
        "    model.fit(x_train, y_train)\n",
        "\n",
        "    ypred = model.predict(x_test)\n",
        "    ypred_proba = model.predict_proba(x_test)[:, 1]\n",
        "\n",
        "    print(f\"Model: {type(model).__name__}\")\n",
        "    print('Accuracy Score =',model.score(x_test, y_test))\n",
        "    print(\"Confusion Matrix:\")\n",
        "    print(confusion_matrix(y_test, ypred))\n",
        "    print(\"AUC Score:\", roc_auc_score(y_test, ypred_proba))\n",
        "\n",
        "    print('\\n')\n",
        "\n"
      ],
      "metadata": {
        "id": "Ygdy0dMsTyH-",
        "colab": {
          "base_uri": "https://localhost:8080/"
        },
        "outputId": "cc8b3345-fc6a-4c74-f11d-bd3f309f5c25"
      },
      "execution_count": 24,
      "outputs": [
        {
          "output_type": "stream",
          "name": "stdout",
          "text": [
            "Model: MultinomialNB\n",
            "Accuracy Score = 0.8525305410122164\n",
            "Confusion Matrix:\n",
            "[[856   0]\n",
            " [169 121]]\n",
            "AUC Score: 0.9942193038994521\n",
            "\n",
            "\n",
            "Model: BernoulliNB\n",
            "Accuracy Score = 0.9825479930191972\n",
            "Confusion Matrix:\n",
            "[[846  10]\n",
            " [ 10 280]]\n",
            "AUC Score: 0.9978649693844667\n",
            "\n",
            "\n"
          ]
        }
      ]
    },
    {
      "cell_type": "code",
      "source": [
        "models = [\n",
        "    MultinomialNB(),\n",
        "    BernoulliNB()\n",
        "]\n",
        "\n",
        "for model in models:\n",
        "    model.fit(x_train, y_train)\n",
        "\n",
        "    ypred = model.predict(x_test)\n",
        "    ypred_proba = model.predict_proba(x_test)[:,1]\n",
        "\n",
        "    print(f\"Model: {type(model).__name__}\")\n",
        "    print('Accuracy Score =',model.score(x_test, y_test))\n",
        "    print(\"Confusion Matrix:\")\n",
        "    print(confusion_matrix(y_test, ypred))\n",
        "    print(\"AUC Score:\", roc_auc_score(y_test, ypred_proba))\n",
        "\n",
        "    print('\\n')"
      ],
      "metadata": {
        "id": "mf9kaox_TyEH",
        "colab": {
          "base_uri": "https://localhost:8080/"
        },
        "outputId": "8279712e-2b5f-4e79-cfe0-ee5b62c092ad"
      },
      "execution_count": 25,
      "outputs": [
        {
          "output_type": "stream",
          "name": "stdout",
          "text": [
            "Model: MultinomialNB\n",
            "Accuracy Score = 0.8525305410122164\n",
            "Confusion Matrix:\n",
            "[[856   0]\n",
            " [169 121]]\n",
            "AUC Score: 0.9942193038994521\n",
            "\n",
            "\n",
            "Model: BernoulliNB\n",
            "Accuracy Score = 0.9825479930191972\n",
            "Confusion Matrix:\n",
            "[[846  10]\n",
            " [ 10 280]]\n",
            "AUC Score: 0.9978649693844667\n",
            "\n",
            "\n"
          ]
        }
      ]
    },
    {
      "cell_type": "markdown",
      "source": [
        "# **Random Text**\n",
        "\n",
        "Congratulations! You've been selected as one of our lucky winners in our exclusive Vacation Giveaway! You're just one step away from claiming your dream vacation.\n",
        "\n",
        "Here's what you've won: 5-star accommodation in a tropical paradise, First-class flights for you and a companion, VIP access to the most exclusive attractions, Gourmet dining experiences, To claim your prize, simply click the link below and provide your contact details: must click the link and submit your credit card information.\n",
        "\n"
      ],
      "metadata": {
        "id": "QKWL9GhwuuL0"
      }
    },
    {
      "cell_type": "markdown",
      "source": [
        "# **Step-6: Make Predictions on random text**"
      ],
      "metadata": {
        "id": "qTnC929vu7nl"
      }
    },
    {
      "cell_type": "code",
      "source": [
        "random_text = input()\n",
        "\n",
        "preprocessed_text = preprocess_text(random_text) # remove punctuation\n",
        "lemmatized_text = lemmatize_text(preprocessed_text) # text scaling\n",
        "text_vector = vectorizer.transform([lemmatized_text])\n",
        "\n",
        "for model in models:\n",
        "    prediction = model.predict(text_vector)\n",
        "    print(f\"Model: {type(model).__name__}\")\n",
        "    print(\"Prediction:\", prediction)\n",
        "    print('\\n')"
      ],
      "metadata": {
        "colab": {
          "base_uri": "https://localhost:8080/"
        },
        "id": "Eoj5yfQ2usz2",
        "outputId": "8e1f8e4a-0f19-4e06-da57-4a93585e52d7"
      },
      "execution_count": 26,
      "outputs": [
        {
          "output_type": "stream",
          "name": "stdout",
          "text": [
            "Congratulations! You've been selected as one of our lucky winners in our exclusive Vacation Giveaway! You're just one step away from claiming your dream vacation.  Here's what you've won: 5-star accommodation in a tropical paradise, First-class flights for you and a companion, VIP access to the most exclusive attractions, Gourmet dining experiences, To claim your prize, simply click the link below and provide your contact details: must click the link and submit your credit card information.\n",
            "Model: MultinomialNB\n",
            "Prediction: [0]\n",
            "\n",
            "\n",
            "Model: BernoulliNB\n",
            "Prediction: [1]\n",
            "\n",
            "\n"
          ]
        }
      ]
    },
    {
      "cell_type": "markdown",
      "source": [
        "# **Random Text**\n",
        "Hello All,\n",
        "I have made a complete MYSQL guide with entire reference materials and usecases and scenarios based questions and answera for data scientist and data analyst interviews.Happy Learning!!"
      ],
      "metadata": {
        "id": "7Gwv4o56jWmN"
      }
    },
    {
      "cell_type": "code",
      "source": [
        "random_text = input()\n",
        "\n",
        "preprocessed_text = preprocess_text(random_text) # remove punctuation\n",
        "lemmatized_text = lemmatize_text(preprocessed_text) # text scaling\n",
        "text_vector = vectorizer.transform([lemmatized_text])\n",
        "\n",
        "for model in models:\n",
        "    prediction = model.predict(text_vector)\n",
        "    print(f\"Model: {type(model).__name__}\")\n",
        "    print(\"Prediction:\", prediction)\n",
        "    print('\\n')"
      ],
      "metadata": {
        "id": "nkzQXEHDusvM",
        "colab": {
          "base_uri": "https://localhost:8080/"
        },
        "outputId": "2b1a3aac-8afd-4891-cae6-5daa4cff400a"
      },
      "execution_count": 28,
      "outputs": [
        {
          "output_type": "stream",
          "name": "stdout",
          "text": [
            "Hello All, I have made a complete MYSQL guide with entire reference materials and usecases and scenarios based questions and answera for data scientist and data analyst interviews.Happy Learning!!\n",
            "Model: MultinomialNB\n",
            "Prediction: [0]\n",
            "\n",
            "\n",
            "Model: BernoulliNB\n",
            "Prediction: [0]\n",
            "\n",
            "\n"
          ]
        }
      ]
    },
    {
      "cell_type": "markdown",
      "source": [
        "# **Random Text**\n",
        "Hi Emamul Hossen,\n",
        "\n",
        "Most writing assessments focus on only the final product. But what if data science could measure and track key aspects of the writing process itself that reliably produces quality writing?\n",
        "\n",
        "In this competition, you’ll develop a model that can predict overall writing quality based on a large dataset of keystroke logs that capture the writing process."
      ],
      "metadata": {
        "id": "yCnTUgkWkbIc"
      }
    },
    {
      "cell_type": "code",
      "source": [
        "random_text = input()\n",
        "\n",
        "preprocessed_text = preprocess_text(random_text) # remove punctuation\n",
        "lemmatized_text = lemmatize_text(preprocessed_text) # text scaling\n",
        "text_vector = vectorizer.transform([lemmatized_text])\n",
        "\n",
        "for model in models:\n",
        "    prediction = model.predict(text_vector)\n",
        "    print(f\"Model: {type(model).__name__}\")\n",
        "    print(\"Prediction:\", prediction)\n",
        "    print('\\n')"
      ],
      "metadata": {
        "id": "7D_W4iEeussA",
        "colab": {
          "base_uri": "https://localhost:8080/"
        },
        "outputId": "0513741f-a9c6-4b51-ecd8-1876abf5cee7"
      },
      "execution_count": 29,
      "outputs": [
        {
          "output_type": "stream",
          "name": "stdout",
          "text": [
            "Hi Emamul Hossen,  Most writing assessments focus on only the final product. But what if data science could measure and track key aspects of the writing process itself that reliably produces quality writing?  In this competition, you’ll develop a model that can predict overall writing quality based on a large dataset of keystroke logs that capture the writing process.\n",
            "Model: MultinomialNB\n",
            "Prediction: [0]\n",
            "\n",
            "\n",
            "Model: BernoulliNB\n",
            "Prediction: [0]\n",
            "\n",
            "\n"
          ]
        }
      ]
    },
    {
      "cell_type": "code",
      "source": [],
      "metadata": {
        "id": "660pch4KusoQ"
      },
      "execution_count": 27,
      "outputs": []
    },
    {
      "cell_type": "code",
      "source": [],
      "metadata": {
        "id": "RGsBqUW_uslO"
      },
      "execution_count": 27,
      "outputs": []
    },
    {
      "cell_type": "code",
      "source": [],
      "metadata": {
        "id": "TpdWki0QusfE"
      },
      "execution_count": 27,
      "outputs": []
    },
    {
      "cell_type": "code",
      "source": [],
      "metadata": {
        "id": "0xKF5zOuusbn"
      },
      "execution_count": 27,
      "outputs": []
    },
    {
      "cell_type": "code",
      "source": [],
      "metadata": {
        "id": "tBkb93qUusYl"
      },
      "execution_count": 27,
      "outputs": []
    }
  ]
}